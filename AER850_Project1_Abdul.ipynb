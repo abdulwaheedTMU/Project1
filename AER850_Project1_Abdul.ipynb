{
  "nbformat": 4,
  "nbformat_minor": 0,
  "metadata": {
    "colab": {
      "provenance": [],
      "authorship_tag": "ABX9TyN0BWHypbRZ9Lm5uI+bcRlj",
      "include_colab_link": true
    },
    "kernelspec": {
      "name": "python3",
      "display_name": "Python 3"
    },
    "language_info": {
      "name": "python"
    }
  },
  "cells": [
    {
      "cell_type": "markdown",
      "metadata": {
        "id": "view-in-github",
        "colab_type": "text"
      },
      "source": [
        "<a href=\"https://colab.research.google.com/github/abdulwaheedTMU/Project1/blob/main/AER850_Project1_Abdul.ipynb\" target=\"_parent\"><img src=\"https://colab.research.google.com/assets/colab-badge.svg\" alt=\"Open In Colab\"/></a>"
      ]
    },
    {
      "cell_type": "markdown",
      "source": [
        "IMPORTING LIBRARIES"
      ],
      "metadata": {
        "id": "qPocVbkaGt0R"
      }
    },
    {
      "cell_type": "code",
      "source": [
        "import numpy as np\n",
        "import pandas as pd\n",
        "import matplotlib.pyplot as plt\n",
        "import seaborn as sns\n",
        "from sklearn.preprocessing import OneHotEncoder, StandardScaler\n",
        "from sklearn.model_selection import train_test_split, StratifiedShuffleSplit\n",
        "from sklearn.model_selection import cross_val_score\n",
        "from sklearn.linear_model import LinearRegression\n",
        "from sklearn.ensemble import RandomForestRegressor\n",
        "from sklearn.metrics import mean_absolute_error\n",
        "from sklearn.model_selection import GridSearchCV\n",
        "from sklearn.svm import SVR\n",
        "from sklearn.tree import DecisionTreeRegressor\n"
      ],
      "metadata": {
        "id": "al1S_ggJHFp_"
      },
      "execution_count": 3,
      "outputs": []
    },
    {
      "cell_type": "markdown",
      "source": [
        "LOADING DATASET"
      ],
      "metadata": {
        "id": "0rq9Ek-BHQIx"
      }
    },
    {
      "cell_type": "code",
      "source": [
        "df = pd.read_csv(\"Project_1_Data.csv\")\n",
        "df = df.dropna()\n",
        "df = df.reset_index(drop=True)\n",
        "# Display info\n",
        "print(df.info())\n",
        "# Display first few rows of the dataframe\n",
        "print(df.head())\n"
      ],
      "metadata": {
        "colab": {
          "base_uri": "https://localhost:8080/"
        },
        "id": "g_K11NteHoNA",
        "outputId": "9806ae82-9ac4-4ad1-9b92-2c0bda74a786"
      },
      "execution_count": 4,
      "outputs": [
        {
          "output_type": "stream",
          "name": "stdout",
          "text": [
            "<class 'pandas.core.frame.DataFrame'>\n",
            "RangeIndex: 860 entries, 0 to 859\n",
            "Data columns (total 4 columns):\n",
            " #   Column  Non-Null Count  Dtype  \n",
            "---  ------  --------------  -----  \n",
            " 0   X       860 non-null    float64\n",
            " 1   Y       860 non-null    float64\n",
            " 2   Z       860 non-null    float64\n",
            " 3   Step    860 non-null    int64  \n",
            "dtypes: float64(3), int64(1)\n",
            "memory usage: 27.0 KB\n",
            "None\n",
            "       X       Y     Z  Step\n",
            "0  9.375  3.0625  0.50     1\n",
            "1  9.375  3.0625  0.51     1\n",
            "2  9.375  3.0625  0.52     1\n",
            "3  9.375  3.0625  0.53     1\n",
            "4  9.375  3.0625  0.54     1\n"
          ]
        }
      ]
    }
  ]
}